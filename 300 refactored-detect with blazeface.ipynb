{
 "cells": [
  {
   "cell_type": "code",
   "execution_count": 1,
   "metadata": {},
   "outputs": [
    {
     "name": "stdout",
     "output_type": "stream",
     "text": [
      "env: CUDA_VISIBLE_DEVICES=''\n"
     ]
    }
   ],
   "source": [
    "%env CUDA_VISIBLE_DEVICES=''\n",
    "\n",
    "\n",
    "from PIL import Image\n",
    "import numpy as np\n",
    "import json\n",
    "import time\n",
    "import glob\n",
    "import cv2\n",
    "import os\n",
    "import matplotlib.pyplot as plt\n",
    "from pprint import pprint\n",
    "\n",
    "from pycocotools.coco import COCO\n",
    "from pycocotools.cocoeval import COCOeval"
   ]
  },
  {
   "cell_type": "code",
   "execution_count": 2,
   "metadata": {},
   "outputs": [],
   "source": [
    "from utils_refactored import FileManager, EllipseParser, BoundingBox, convert_grayscale_to_rgb"
   ]
  },
  {
   "cell_type": "code",
   "execution_count": null,
   "metadata": {},
   "outputs": [],
   "source": []
  },
  {
   "cell_type": "code",
   "execution_count": 3,
   "metadata": {},
   "outputs": [],
   "source": [
    "def process_paths(content_files: list, just_names_files: list) -> dict:\n",
    "    content = []\n",
    "    just_names = []\n",
    "    for cnt, nms in zip(content_files, just_names_files):\n",
    "        content_ = FileManager.read_txt(path=cnt)\n",
    "        just_names_ = FileManager.read_txt(path=nms)\n",
    "        content.extend(content_)\n",
    "        just_names.extend(just_names_)\n",
    "    return EllipseParser.parse_doc(content, just_names)\n",
    "\n",
    "content_files = glob.glob(\"../01-data/03-fddb-data/FDDB-folds/FDDB-folds/*-ellipseList.txt\")\n",
    "just_names_files = glob.glob(\"../01-data/03-fddb-data/FDDB-folds/FDDB-folds/*.txt\")\n",
    "just_names_files = [item for item in just_names_files if item not in content_files]\n",
    "\n",
    "ellipse_data = process_paths(content_files, just_names_files)"
   ]
  },
  {
   "cell_type": "code",
   "execution_count": 4,
   "metadata": {},
   "outputs": [],
   "source": [
    "def process_images(img_paths: dict, debug=False, save_examples=False) -> dict:\n",
    "    coco_json = {\n",
    "        \"images\": [],\n",
    "        \"annotations\": []\n",
    "    }\n",
    "\n",
    "    for i, (image_id, img_data) in enumerate(img_paths.items()):\n",
    "        img_path, img_key = img_data\n",
    "        cpp_detections_path = \"./outputs/full_range/.._\" + img_path.replace(\"/\", \"_\") + \".txt\"\n",
    "        detections = []\n",
    "        \n",
    "        with open(cpp_detections_path, 'r') as file:\n",
    "            for line_number, line in enumerate(file, start=1):\n",
    "                try:\n",
    "                    # Split the line by comma and convert each value to float\n",
    "                    xmin, ymin, xmax, ymax, confidence, class_id = map(float, line.strip().split(',')[:-1])\n",
    "                    \n",
    "                    # Append the detection to the detections list\n",
    "                    detections.append([xmin, ymin, xmax, ymax, confidence, class_id])\n",
    "                except ValueError as e:\n",
    "                    print(f\"Error on line {line_number}: {line.strip()}\")\n",
    "                    print(f\"Exception: {e}\")\n",
    "\n",
    "        #load img\n",
    "        image = Image.open(img_path)\n",
    "        image = convert_grayscale_to_rgb(image)\n",
    "        image_width, image_height = image.size\n",
    "        image_info = {\n",
    "            \"id\": image_id,\n",
    "            \"file_name\": img_key,\n",
    "            \"width\": image_width,\n",
    "            \"height\": image_height\n",
    "        }\n",
    "        coco_json[\"images\"].append(image_info)\n",
    "\n",
    "        try:\n",
    "            for det in detections:\n",
    "                x1, y1, x2, y2, confidence, class_id = det            \n",
    "                x1 = int(x1/192.0*image_width)\n",
    "                x2 = int(x2/192.0*image_width)\n",
    "                y1 = int(y1/192.0*image_height)\n",
    "                y2 = int(y2/192.0*image_height)\n",
    "                w = x2-x1\n",
    "                h = y2-y1\n",
    "                #cv2.rectangle(img_arr, (x1, y1), (x1+w, y1+h), (0, 255, 0), 2)\n",
    "\n",
    "                coco_bbox = [x1, y1, w, h]\n",
    "                detection = {\n",
    "                    \"image_id\": image_id,\n",
    "                    \"category_id\": 1,\n",
    "                    \"bbox\": coco_bbox,\n",
    "                    \"score\": confidence,\n",
    "                    \"iscrowd\": 0,\n",
    "                    \"area\": w * h,\n",
    "                    \"segmentation\": [],\n",
    "                }\n",
    "                coco_json[\"annotations\"].append(detection)\n",
    "            if save_examples and i <= 1:\n",
    "                plt.imshow(img_arr)\n",
    "                plt.show()\n",
    "        except Exception as e:\n",
    "            print(e)\n",
    "            continue\n",
    "    return coco_json\n",
    "\n",
    "\n"
   ]
  },
  {
   "cell_type": "code",
   "execution_count": 5,
   "metadata": {},
   "outputs": [
    {
     "name": "stdout",
     "output_type": "stream",
     "text": [
      "loading annotations into memory...\n",
      "Done (t=0.08s)\n",
      "creating index...\n",
      "index created!\n"
     ]
    }
   ],
   "source": [
    "coco_gt = COCO('./data/coco_ground_truths.json')\n",
    "filename_to_id = {img['file_name']: img['id'] for img in coco_gt.dataset['images']}\n",
    "root = \"../01-data/03-fddb-data/originalPics/\"\n",
    "ext = '.jpg'\n",
    "img_paths = {value: [os.path.join(root,key + ext),key] for key,value in filename_to_id.items()}\n",
    "\n"
   ]
  },
  {
   "cell_type": "code",
   "execution_count": 6,
   "metadata": {},
   "outputs": [
    {
     "name": "stdout",
     "output_type": "stream",
     "text": [
      "There are 28204 .jpg files in ../01-data/03-fddb-data/originalPics/ and its subfolders.\n"
     ]
    }
   ],
   "source": [
    "import glob\n",
    "\n",
    "def count_jpg_files(root_folder):\n",
    "    return len(glob.glob(f'{root_folder}/**/*.jpg', recursive=True))\n",
    "\n",
    "jpg_count = count_jpg_files(root)\n",
    "print(f'There are {jpg_count} .jpg files in {root} and its subfolders.')\n"
   ]
  },
  {
   "cell_type": "code",
   "execution_count": null,
   "metadata": {},
   "outputs": [],
   "source": []
  },
  {
   "cell_type": "code",
   "execution_count": null,
   "metadata": {},
   "outputs": [],
   "source": [
    "coco_json = process_images(img_paths)"
   ]
  },
  {
   "cell_type": "code",
   "execution_count": 19,
   "metadata": {},
   "outputs": [],
   "source": [
    "coco_save_name = './data/coco_detections_cpp_inference_full_range.json'\n",
    "\n",
    "with open(coco_save_name, 'w') as f:\n",
    "    json.dump(coco_json['annotations'], f)"
   ]
  },
  {
   "cell_type": "markdown",
   "metadata": {},
   "source": [
    "### Sanity checks"
   ]
  },
  {
   "cell_type": "code",
   "execution_count": 7,
   "metadata": {},
   "outputs": [],
   "source": [
    "def load_img_from_img_id(coco_gt,id):\n",
    "    data = coco_gt.imgs[id]\n",
    "    root = \"../01-data/03-fddb-data/originalPics/\"\n",
    "    ext = '.jpg'\n",
    "    path = os.path.join(root,data['file_name'] + ext)\n",
    "    img = cv2.imread(path)[...,::-1]\n",
    "    return img\n",
    "\n",
    "def draw_bounding_boxes(img, gt_anns, pred_anns,plot=True):\n",
    "    img_c = img.copy()\n",
    "    # Draw ground truth annotations\n",
    "    for ann in gt_anns:\n",
    "        bbox = ann['bbox']\n",
    "        x, y, w, h = int(bbox[0]), int(bbox[1]), int(bbox[2]), int(bbox[3])\n",
    "        cv2.rectangle(img_c, (x, y), (x+w, y+h), (0, 255, 0), 2)  # Green color for GT\n",
    "\n",
    "    # Draw prediction annotations\n",
    "    for ann in pred_anns:\n",
    "        bbox = ann['bbox']\n",
    "        x, y, w, h = int(bbox[0]), int(bbox[1]), int(bbox[2]), int(bbox[3])\n",
    "        cv2.rectangle(img_c, (x, y), (x+w, y+h), (255, 0, 0), 2)  # Red color for predictions\n",
    "\n",
    "    if plot:\n",
    "        plt.imshow(img_c)\n",
    "        plt.show()\n",
    "    return img_c"
   ]
  },
  {
   "cell_type": "code",
   "execution_count": 8,
   "metadata": {},
   "outputs": [
    {
     "name": "stdout",
     "output_type": "stream",
     "text": [
      "Loading and preparing results...\n",
      "DONE (t=9.95s)\n",
      "creating index...\n",
      "index created!\n"
     ]
    }
   ],
   "source": [
    "coco_dt = coco_gt.loadRes('./data/coco_detections_cpp_inference_full_range.json')\n",
    "img_ids = coco_dt.getImgIds()\n",
    "debug = False\n",
    "save_examples = True\n",
    "plot = False"
   ]
  },
  {
   "cell_type": "code",
   "execution_count": 9,
   "metadata": {},
   "outputs": [],
   "source": [
    "for _id in img_ids:\n",
    "    img = load_img_from_img_id(coco_gt,_id)\n",
    "    #print(img)\n",
    "    # pred ids\n",
    "    ann_ids = coco_dt.getAnnIds(imgIds=_id)\n",
    "    pr_anns = coco_dt.loadAnns(ann_ids)\n",
    "\n",
    "    # gt ids\n",
    "    ann_ids = coco_gt.getAnnIds(imgIds=_id)\n",
    "    gt_anns = coco_gt.loadAnns(ann_ids)\n",
    "    if debug:\n",
    "        print(img.shape)\n",
    "        pprint(gt_anns[0])\n",
    "        print(\"=\"*80)\n",
    "        pprint(pr_anns)\n",
    "    img_c = draw_bounding_boxes(img,gt_anns,pr_anns,plot=plot)\n",
    "    if save_examples:\n",
    "        save_root = \"./outputs/examples_of_predictions_and_gts/\"\n",
    "        save_name = str(_id) + \".jpg\"\n",
    "        save_name = os.path.join(save_root,save_name)\n",
    "        cv2.imwrite(save_name,img_c[...,::-1])"
   ]
  },
  {
   "cell_type": "code",
   "execution_count": null,
   "metadata": {},
   "outputs": [],
   "source": []
  }
 ],
 "metadata": {
  "kernelspec": {
   "display_name": "tfjs-conv",
   "language": "python",
   "name": "python3"
  },
  "language_info": {
   "codemirror_mode": {
    "name": "ipython",
    "version": 3
   },
   "file_extension": ".py",
   "mimetype": "text/x-python",
   "name": "python",
   "nbconvert_exporter": "python",
   "pygments_lexer": "ipython3",
   "version": "3.10.14"
  },
  "orig_nbformat": 4
 },
 "nbformat": 4,
 "nbformat_minor": 2
}
